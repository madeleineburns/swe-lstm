{
 "cells": [
  {
   "cell_type": "markdown",
   "id": "b569b9a8-4b9f-4649-ac01-a3b0413e4e5a",
   "metadata": {},
   "source": [
    "# Regime-specific LSTM model\n",
    "This notebook includes code to investigate LSTM sensitivity to training data by evaluating the performance metrics of multiple LSTM models trained on differing percentages of sites from maritime snowpack regimes. The first section produces plots of model performance metrics and the second section evaluates performance metrics across snowpack regimes for other LSTM models. <br><br> Maritime: WA, OR, CA <br> Intermountain: MT, ID, UT, NV <br> Continental: CO, WY, NM, AZ"
   ]
  },
  {
   "cell_type": "code",
   "execution_count": 9,
   "id": "c9be425e-72ee-4780-bd98-0814f08016e5",
   "metadata": {},
   "outputs": [],
   "source": [
    "## PRELIMINARIES ##\n",
    "import pandas as pd\n",
    "import numpy as np\n",
    "import matplotlib.pyplot as plt\n",
    "import os\n",
    "from sklearn.model_selection import train_test_split\n",
    "from sklearn.preprocessing import MaxAbsScaler\n",
    "from sklearn.preprocessing import MinMaxScaler\n",
    "from sklearn.metrics import mean_squared_error\n",
    "import random as rn\n",
    "import pickle\n",
    "import traceback\n",
    "import torch\n",
    "import hf_hydrodata as hf\n",
    "from tqdm import tqdm\n",
    "import seaborn as sns\n",
    "from statsmodels.distributions.empirical_distribution import ECDF\n",
    "import joypy\n",
    "import plotly.express as px\n",
    "import plotly.graph_objects as go\n",
    "\n",
    "from _lstm import *\n",
    "from _data import *\n",
    "\n",
    "import io\n",
    "from contextlib import redirect_stdout\n",
    "trap = io.StringIO()\n",
    "\n",
    "func_map_year = {'get_years_precip' : get_years_precip, 'get_years_random' : get_years_random}\n",
    "func_map_site = {'get_sites_full' : get_sites_full, 'get_sites_random' : get_sites_random, 'get_sites_longitude' : get_sites_longitude, \n",
    "                 'get_sites_latitude' : get_sites_latitude}"
   ]
  },
  {
   "cell_type": "markdown",
   "id": "7501e41b-e05d-46d2-bfa2-22526c7db34f",
   "metadata": {},
   "source": [
    "# Plots"
   ]
  },
  {
   "cell_type": "code",
   "execution_count": 2,
   "id": "d307e15a-90a0-43b3-b173-46e6a08fe8df",
   "metadata": {},
   "outputs": [],
   "source": [
    "## LOAD & COMBINE DATA ##\n",
    "stats_m30 = pd.read_csv('/home/mcburns/national_lstm/Data/LSTM_output/l6_200_m30_statistics.txt',sep=' ',header=None)\n",
    "stats_m30.columns = ['rmse','normal rmse','nse','r2','spearman_rho','delta peak','normal delta peak','abs delta peak','normal abs delta peak',\n",
    "                                 'delta days','abs delta days']\n",
    "stats_m40 = pd.read_csv('/home/mcburns/national_lstm/Data/LSTM_output/l6_200_m40_statistics.txt',sep=' ',header=None)\n",
    "stats_m40.columns = ['rmse','normal rmse','nse','r2','spearman_rho','delta peak','normal delta peak','abs delta peak','normal abs delta peak',\n",
    "                                 'delta days','abs delta days']\n",
    "stats_m50 = pd.read_csv('/home/mcburns/national_lstm/Data/LSTM_output/l6_200_m50_statistics.txt',sep=' ',header=None)\n",
    "stats_m50.columns = ['rmse','normal rmse','nse','r2','spearman_rho','delta peak','normal delta peak','abs delta peak','normal abs delta peak',\n",
    "                                 'delta days','abs delta days']\n",
    "stats_m60 = pd.read_csv('/home/mcburns/national_lstm/Data/LSTM_output/l6_200_m60_statistics.txt',sep=' ',header=None)\n",
    "stats_m60.columns = ['rmse','normal rmse','nse','r2','spearman_rho','delta peak','normal delta peak','abs delta peak','normal abs delta peak',\n",
    "                                 'delta days','abs delta days']\n",
    "\n",
    "stats_m30['Percent'] = '30%'\n",
    "stats_m40['Percent'] = '40%'\n",
    "stats_m50['Percent'] = '50%'\n",
    "stats_m60['Percent'] = '60%'\n",
    "\n",
    "model_statistics = pd.concat([stats_m30, stats_m40, stats_m50, stats_m60], ignore_index=True)"
   ]
  },
  {
   "cell_type": "code",
   "execution_count": 3,
   "id": "2aacaac9-92dc-40a5-b301-053562ed4338",
   "metadata": {},
   "outputs": [
    {
     "data": {
      "text/html": [
       "<div>\n",
       "<style scoped>\n",
       "    .dataframe tbody tr th:only-of-type {\n",
       "        vertical-align: middle;\n",
       "    }\n",
       "\n",
       "    .dataframe tbody tr th {\n",
       "        vertical-align: top;\n",
       "    }\n",
       "\n",
       "    .dataframe thead th {\n",
       "        text-align: right;\n",
       "    }\n",
       "</style>\n",
       "<table border=\"1\" class=\"dataframe\">\n",
       "  <thead>\n",
       "    <tr style=\"text-align: right;\">\n",
       "      <th></th>\n",
       "      <th>rmse</th>\n",
       "      <th>normal rmse</th>\n",
       "      <th>nse</th>\n",
       "      <th>r2</th>\n",
       "      <th>spearman_rho</th>\n",
       "      <th>delta peak</th>\n",
       "      <th>normal delta peak</th>\n",
       "      <th>abs delta peak</th>\n",
       "      <th>normal abs delta peak</th>\n",
       "      <th>delta days</th>\n",
       "      <th>abs delta days</th>\n",
       "      <th>Percent</th>\n",
       "    </tr>\n",
       "  </thead>\n",
       "  <tbody>\n",
       "    <tr>\n",
       "      <th>0</th>\n",
       "      <td>0.041047</td>\n",
       "      <td>0.164346</td>\n",
       "      <td>0.998464</td>\n",
       "      <td>0.998464</td>\n",
       "      <td>0.847298</td>\n",
       "      <td>0.505653</td>\n",
       "      <td>0.548034</td>\n",
       "      <td>0.031674</td>\n",
       "      <td>0.114206</td>\n",
       "      <td>0.508982</td>\n",
       "      <td>0.154639</td>\n",
       "      <td>30%</td>\n",
       "    </tr>\n",
       "    <tr>\n",
       "      <th>1</th>\n",
       "      <td>0.014284</td>\n",
       "      <td>0.083619</td>\n",
       "      <td>0.999648</td>\n",
       "      <td>0.999648</td>\n",
       "      <td>0.864861</td>\n",
       "      <td>0.492028</td>\n",
       "      <td>0.501786</td>\n",
       "      <td>0.004985</td>\n",
       "      <td>0.023567</td>\n",
       "      <td>0.494012</td>\n",
       "      <td>0.128866</td>\n",
       "      <td>30%</td>\n",
       "    </tr>\n",
       "    <tr>\n",
       "      <th>2</th>\n",
       "      <td>0.032880</td>\n",
       "      <td>0.094710</td>\n",
       "      <td>0.999478</td>\n",
       "      <td>0.999478</td>\n",
       "      <td>0.929856</td>\n",
       "      <td>0.491856</td>\n",
       "      <td>0.496363</td>\n",
       "      <td>0.004647</td>\n",
       "      <td>0.012938</td>\n",
       "      <td>0.470060</td>\n",
       "      <td>0.087629</td>\n",
       "      <td>30%</td>\n",
       "    </tr>\n",
       "    <tr>\n",
       "      <th>3</th>\n",
       "      <td>0.026271</td>\n",
       "      <td>0.193454</td>\n",
       "      <td>0.996973</td>\n",
       "      <td>0.996973</td>\n",
       "      <td>0.757866</td>\n",
       "      <td>0.510574</td>\n",
       "      <td>0.615710</td>\n",
       "      <td>0.041312</td>\n",
       "      <td>0.246843</td>\n",
       "      <td>0.568862</td>\n",
       "      <td>0.257732</td>\n",
       "      <td>30%</td>\n",
       "    </tr>\n",
       "    <tr>\n",
       "      <th>4</th>\n",
       "      <td>0.020303</td>\n",
       "      <td>0.123203</td>\n",
       "      <td>0.999153</td>\n",
       "      <td>0.999153</td>\n",
       "      <td>0.900148</td>\n",
       "      <td>0.512766</td>\n",
       "      <td>0.605683</td>\n",
       "      <td>0.045606</td>\n",
       "      <td>0.227192</td>\n",
       "      <td>0.470060</td>\n",
       "      <td>0.087629</td>\n",
       "      <td>30%</td>\n",
       "    </tr>\n",
       "    <tr>\n",
       "      <th>...</th>\n",
       "      <td>...</td>\n",
       "      <td>...</td>\n",
       "      <td>...</td>\n",
       "      <td>...</td>\n",
       "      <td>...</td>\n",
       "      <td>...</td>\n",
       "      <td>...</td>\n",
       "      <td>...</td>\n",
       "      <td>...</td>\n",
       "      <td>...</td>\n",
       "      <td>...</td>\n",
       "      <td>...</td>\n",
       "    </tr>\n",
       "    <tr>\n",
       "      <th>3611</th>\n",
       "      <td>0.372472</td>\n",
       "      <td>0.459464</td>\n",
       "      <td>0.996822</td>\n",
       "      <td>0.996822</td>\n",
       "      <td>0.834643</td>\n",
       "      <td>0.293961</td>\n",
       "      <td>0.263959</td>\n",
       "      <td>0.382982</td>\n",
       "      <td>0.442539</td>\n",
       "      <td>0.371257</td>\n",
       "      <td>0.082474</td>\n",
       "      <td>60%</td>\n",
       "    </tr>\n",
       "    <tr>\n",
       "      <th>3612</th>\n",
       "      <td>0.358085</td>\n",
       "      <td>0.469325</td>\n",
       "      <td>0.996927</td>\n",
       "      <td>0.996927</td>\n",
       "      <td>0.821908</td>\n",
       "      <td>0.294846</td>\n",
       "      <td>0.251419</td>\n",
       "      <td>0.381248</td>\n",
       "      <td>0.467114</td>\n",
       "      <td>0.416168</td>\n",
       "      <td>0.005155</td>\n",
       "      <td>60%</td>\n",
       "    </tr>\n",
       "    <tr>\n",
       "      <th>3613</th>\n",
       "      <td>0.186016</td>\n",
       "      <td>0.277023</td>\n",
       "      <td>0.998799</td>\n",
       "      <td>0.998799</td>\n",
       "      <td>0.913147</td>\n",
       "      <td>0.391124</td>\n",
       "      <td>0.349808</td>\n",
       "      <td>0.192659</td>\n",
       "      <td>0.274284</td>\n",
       "      <td>0.410180</td>\n",
       "      <td>0.015464</td>\n",
       "      <td>60%</td>\n",
       "    </tr>\n",
       "    <tr>\n",
       "      <th>3614</th>\n",
       "      <td>0.022499</td>\n",
       "      <td>0.262785</td>\n",
       "      <td>0.995888</td>\n",
       "      <td>0.995888</td>\n",
       "      <td>0.110593</td>\n",
       "      <td>0.491426</td>\n",
       "      <td>0.506911</td>\n",
       "      <td>0.003806</td>\n",
       "      <td>0.033611</td>\n",
       "      <td>0.350299</td>\n",
       "      <td>0.118557</td>\n",
       "      <td>60%</td>\n",
       "    </tr>\n",
       "    <tr>\n",
       "      <th>3615</th>\n",
       "      <td>0.097021</td>\n",
       "      <td>0.132780</td>\n",
       "      <td>0.999419</td>\n",
       "      <td>0.999419</td>\n",
       "      <td>0.878053</td>\n",
       "      <td>0.442933</td>\n",
       "      <td>0.424719</td>\n",
       "      <td>0.091175</td>\n",
       "      <td>0.127468</td>\n",
       "      <td>0.407186</td>\n",
       "      <td>0.020619</td>\n",
       "      <td>60%</td>\n",
       "    </tr>\n",
       "  </tbody>\n",
       "</table>\n",
       "<p>3616 rows × 12 columns</p>\n",
       "</div>"
      ],
      "text/plain": [
       "          rmse  normal rmse       nse        r2  spearman_rho  delta peak  \\\n",
       "0     0.041047     0.164346  0.998464  0.998464      0.847298    0.505653   \n",
       "1     0.014284     0.083619  0.999648  0.999648      0.864861    0.492028   \n",
       "2     0.032880     0.094710  0.999478  0.999478      0.929856    0.491856   \n",
       "3     0.026271     0.193454  0.996973  0.996973      0.757866    0.510574   \n",
       "4     0.020303     0.123203  0.999153  0.999153      0.900148    0.512766   \n",
       "...        ...          ...       ...       ...           ...         ...   \n",
       "3611  0.372472     0.459464  0.996822  0.996822      0.834643    0.293961   \n",
       "3612  0.358085     0.469325  0.996927  0.996927      0.821908    0.294846   \n",
       "3613  0.186016     0.277023  0.998799  0.998799      0.913147    0.391124   \n",
       "3614  0.022499     0.262785  0.995888  0.995888      0.110593    0.491426   \n",
       "3615  0.097021     0.132780  0.999419  0.999419      0.878053    0.442933   \n",
       "\n",
       "      normal delta peak  abs delta peak  normal abs delta peak  delta days  \\\n",
       "0              0.548034        0.031674               0.114206    0.508982   \n",
       "1              0.501786        0.004985               0.023567    0.494012   \n",
       "2              0.496363        0.004647               0.012938    0.470060   \n",
       "3              0.615710        0.041312               0.246843    0.568862   \n",
       "4              0.605683        0.045606               0.227192    0.470060   \n",
       "...                 ...             ...                    ...         ...   \n",
       "3611           0.263959        0.382982               0.442539    0.371257   \n",
       "3612           0.251419        0.381248               0.467114    0.416168   \n",
       "3613           0.349808        0.192659               0.274284    0.410180   \n",
       "3614           0.506911        0.003806               0.033611    0.350299   \n",
       "3615           0.424719        0.091175               0.127468    0.407186   \n",
       "\n",
       "      abs delta days Percent  \n",
       "0           0.154639     30%  \n",
       "1           0.128866     30%  \n",
       "2           0.087629     30%  \n",
       "3           0.257732     30%  \n",
       "4           0.087629     30%  \n",
       "...              ...     ...  \n",
       "3611        0.082474     60%  \n",
       "3612        0.005155     60%  \n",
       "3613        0.015464     60%  \n",
       "3614        0.118557     60%  \n",
       "3615        0.020619     60%  \n",
       "\n",
       "[3616 rows x 12 columns]"
      ]
     },
     "execution_count": 3,
     "metadata": {},
     "output_type": "execute_result"
    }
   ],
   "source": [
    "## NORMALIZE ?? ##\n",
    "# Min-Max Normalization function\n",
    "def min_max_normalize(column):\n",
    "    return (column - column.min()) / (column.max() - column.min())\n",
    "\n",
    "# z score normalization function\n",
    "def z_score_normalize(column):\n",
    "    return (column - column.mean()) / column.std()\n",
    "\n",
    "model_statistics_normalized = model_statistics.drop(['Percent'], axis=1).apply(min_max_normalize)\n",
    "model_statistics_normalized['Percent'] = model_statistics['Percent']\n",
    "model_statistics_normalized"
   ]
  },
  {
   "cell_type": "code",
   "execution_count": 4,
   "id": "0165fdfd-5302-403b-9d85-8bac9b6c3126",
   "metadata": {},
   "outputs": [
    {
     "name": "stdout",
     "output_type": "stream",
     "text": [
      "m_30\n",
      "RMSE: 60.57\n",
      "normal RMSE: 0.15\n",
      "NSE: 0.80\n",
      "R2: 0.80\n",
      "Spearman's rho: 0.91\n",
      "delta peak SWE: 25.99\n",
      "normal delta peak SWE: 0.06\n",
      "absolute delta peak SWE: 80.65\n",
      "absolute normal delta peak SWE: 0.21\n",
      "delta days: 19.00\n",
      "absolute delta days: 20.00\n",
      "\n",
      "m_40\n",
      "RMSE: 49.92\n",
      "normal RMSE: 0.13\n",
      "NSE: 0.85\n",
      "R2: 0.85\n",
      "Spearman's rho: 0.91\n",
      "delta peak SWE: -8.22\n",
      "normal delta peak SWE: -0.02\n",
      "absolute delta peak SWE: 66.48\n",
      "absolute normal delta peak SWE: 0.17\n",
      "delta days: 16.00\n",
      "absolute delta days: 17.00\n",
      "\n",
      "m_50\n",
      "RMSE: 51.55\n",
      "normal RMSE: 0.14\n",
      "NSE: 0.85\n",
      "R2: 0.85\n",
      "Spearman's rho: 0.91\n",
      "delta peak SWE: -10.88\n",
      "normal delta peak SWE: -0.03\n",
      "absolute delta peak SWE: 64.94\n",
      "absolute normal delta peak SWE: 0.18\n",
      "delta days: 15.00\n",
      "absolute delta days: 15.00\n",
      "\n",
      "m_60\n",
      "RMSE: 58.64\n",
      "normal RMSE: 0.15\n",
      "NSE: 0.82\n",
      "R2: 0.82\n",
      "Spearman's rho: 0.91\n",
      "delta peak SWE: 23.65\n",
      "normal delta peak SWE: 0.07\n",
      "absolute delta peak SWE: 78.42\n",
      "absolute normal delta peak SWE: 0.20\n",
      "delta days: 17.00\n",
      "absolute delta days: 18.00\n"
     ]
    }
   ],
   "source": [
    "## PRINT ACCURACY FOR MODELS ##\n",
    "print('m_30')\n",
    "print(f\"RMSE: {np.median(stats_m30['rmse']):.2f}\")\n",
    "print(f\"normal RMSE: {np.median(stats_m30['normal rmse']):.2f}\")\n",
    "print(f\"NSE: {np.median(stats_m30['nse']):.2f}\")\n",
    "print(f\"R2: {np.median(stats_m30['r2']):.2f}\")\n",
    "print(f\"Spearman's rho: {np.median(stats_m30['spearman_rho']):.2f}\")\n",
    "print(f\"delta peak SWE: {np.median(stats_m30['delta peak']):.2f}\")\n",
    "print(f\"normal delta peak SWE: {np.median(stats_m30['normal delta peak']):.2f}\")\n",
    "print(f\"absolute delta peak SWE: {np.median(stats_m30['abs delta peak']):.2f}\")\n",
    "print(f\"absolute normal delta peak SWE: {np.median(stats_m30['normal abs delta peak']):.2f}\")\n",
    "print(f\"delta days: {np.median(stats_m30['delta days']):.2f}\")\n",
    "print(f\"absolute delta days: {np.median(stats_m30['abs delta days']):.2f}\")\n",
    "\n",
    "print('\\nm_40')\n",
    "print(f\"RMSE: {np.median(stats_m40['rmse']):.2f}\")\n",
    "print(f\"normal RMSE: {np.median(stats_m40['normal rmse']):.2f}\")\n",
    "print(f\"NSE: {np.median(stats_m40['nse']):.2f}\")\n",
    "print(f\"R2: {np.median(stats_m40['r2']):.2f}\")\n",
    "print(f\"Spearman's rho: {np.median(stats_m40['spearman_rho']):.2f}\")\n",
    "print(f\"delta peak SWE: {np.median(stats_m40['delta peak']):.2f}\")\n",
    "print(f\"normal delta peak SWE: {np.median(stats_m40['normal delta peak']):.2f}\")\n",
    "print(f\"absolute delta peak SWE: {np.median(stats_m40['abs delta peak']):.2f}\")\n",
    "print(f\"absolute normal delta peak SWE: {np.median(stats_m40['normal abs delta peak']):.2f}\")\n",
    "print(f\"delta days: {np.median(stats_m40['delta days']):.2f}\")\n",
    "print(f\"absolute delta days: {np.median(stats_m40['abs delta days']):.2f}\")\n",
    "\n",
    "print('\\nm_50')\n",
    "print(f\"RMSE: {np.median(stats_m50['rmse']):.2f}\")\n",
    "print(f\"normal RMSE: {np.median(stats_m50['normal rmse']):.2f}\")\n",
    "print(f\"NSE: {np.median(stats_m50['nse']):.2f}\")\n",
    "print(f\"R2: {np.median(stats_m50['r2']):.2f}\")\n",
    "print(f\"Spearman's rho: {np.median(stats_m50['spearman_rho']):.2f}\")\n",
    "print(f\"delta peak SWE: {np.median(stats_m50['delta peak']):.2f}\")\n",
    "print(f\"normal delta peak SWE: {np.median(stats_m50['normal delta peak']):.2f}\")\n",
    "print(f\"absolute delta peak SWE: {np.median(stats_m50['abs delta peak']):.2f}\")\n",
    "print(f\"absolute normal delta peak SWE: {np.median(stats_m50['normal abs delta peak']):.2f}\")\n",
    "print(f\"delta days: {np.median(stats_m50['delta days']):.2f}\")\n",
    "print(f\"absolute delta days: {np.median(stats_m50['abs delta days']):.2f}\")\n",
    "\n",
    "print('\\nm_60')\n",
    "print(f\"RMSE: {np.median(stats_m60['rmse']):.2f}\")\n",
    "print(f\"normal RMSE: {np.median(stats_m60['normal rmse']):.2f}\")\n",
    "print(f\"NSE: {np.median(stats_m60['nse']):.2f}\")\n",
    "print(f\"R2: {np.median(stats_m60['r2']):.2f}\")\n",
    "print(f\"Spearman's rho: {np.median(stats_m60['spearman_rho']):.2f}\")\n",
    "print(f\"delta peak SWE: {np.median(stats_m60['delta peak']):.2f}\")\n",
    "print(f\"normal delta peak SWE: {np.median(stats_m60['normal delta peak']):.2f}\")\n",
    "print(f\"absolute delta peak SWE: {np.median(stats_m60['abs delta peak']):.2f}\")\n",
    "print(f\"absolute normal delta peak SWE: {np.median(stats_m60['normal abs delta peak']):.2f}\")\n",
    "print(f\"delta days: {np.median(stats_m60['delta days']):.2f}\")\n",
    "print(f\"absolute delta days: {np.median(stats_m60['abs delta days']):.2f}\")"
   ]
  },
  {
   "cell_type": "code",
   "execution_count": 9,
   "id": "4d85e054-e84a-43d7-8acf-0014334f9059",
   "metadata": {},
   "outputs": [
    {
     "data": {
      "image/png": "[encoded data removed]",
      "text/plain": [
       "<Figure size 1700x450 with 4 Axes>"
      ]
     },
     "metadata": {},
     "output_type": "display_data"
    }
   ],
   "source": [
    "## ECDF FUNCTIONS ##\n",
    "fig, axes = plt.subplots(nrows=1, ncols=4, figsize=(17, 4.5))\n",
    "custom_palette = ['#FF7F00', '#999999', '#A65628', '#F781BF']\n",
    "\n",
    "# RMSE\n",
    "sns.ecdfplot(data=model_statistics_normalized, x='normal rmse', hue='Percent', ax=axes[0], palette=custom_palette, legend=False)\n",
    "axes[0].set_title('Normalized RMSE', fontsize=15)\n",
    "axes[0].set_xlabel('Normalized RMSE', fontsize=13)\n",
    "axes[0].set_ylabel('Percentile')\n",
    "\n",
    "# Abs Delta Peak\n",
    "sns.ecdfplot(data=model_statistics_normalized, x='normal abs delta peak', hue='Percent', ax=axes[1], palette=custom_palette, legend=False)\n",
    "axes[1].set_title('Normalized Absolute Delta Peak', fontsize=15)\n",
    "axes[1].set_xlabel('Normalized Absolute Delta Peak', fontsize=13)\n",
    "axes[1].set_ylabel('')\n",
    "\n",
    "# Spearman rho\n",
    "sns.ecdfplot(data=model_statistics_normalized, x='spearman_rho', hue='Percent', ax=axes[2], palette=custom_palette, legend=False)\n",
    "axes[2].set_title('Spearman\\'s Rho', fontsize=15)\n",
    "axes[2].set_xlabel('Spearman\\'s Rho', fontsize=13)\n",
    "axes[2].set_ylabel('')\n",
    "\n",
    "# NSE\n",
    "# removed extreme metrics to make it visually make sense - reconsider\n",
    "sns.ecdfplot(data=model_statistics_normalized, x='nse', hue='Percent', ax=axes[3], palette=custom_palette, legend=False)\n",
    "axes[3].set_title('NSE', fontsize=15)\n",
    "axes[3].set_xlabel('NSE', fontsize=13)\n",
    "axes[3].set_ylabel('')\n",
    "\n",
    "# plot things\n",
    "fig.legend([plt.Line2D([0], [0], color=color, lw=2) for color in custom_palette], model_statistics['Percent'].unique(),\n",
    "           title='Models', loc='center right', bbox_to_anchor=(1.09, 0.5), fontsize=12)\n",
    "fig.suptitle('ECDF Model Metric Comparison', size=20)\n",
    "plt.tight_layout()"
   ]
  },
  {
   "cell_type": "code",
   "execution_count": 12,
   "id": "701b0067-14c7-4feb-a5c9-e9a748f7aed8",
   "metadata": {},
   "outputs": [
    {
     "name": "stderr",
     "output_type": "stream",
     "text": [
      "/home/mcburns/.conda/envs/thesis/lib/python3.9/site-packages/joypy/joyplot.py:435: UserWarning: To output multiple subplots, the figure containing the passed axes is being cleared.\n",
      "  fig, axes = _subplots(naxes=num_axes, ax=ax, squeeze=False,\n",
      "/home/mcburns/.conda/envs/thesis/lib/python3.9/site-packages/joypy/joyplot.py:435: UserWarning: To output multiple subplots, the figure containing the passed axes is being cleared.\n",
      "  fig, axes = _subplots(naxes=num_axes, ax=ax, squeeze=False,\n",
      "/home/mcburns/.conda/envs/thesis/lib/python3.9/site-packages/joypy/joyplot.py:435: UserWarning: To output multiple subplots, the figure containing the passed axes is being cleared.\n",
      "  fig, axes = _subplots(naxes=num_axes, ax=ax, squeeze=False,\n",
      "/home/mcburns/.conda/envs/thesis/lib/python3.9/site-packages/joypy/joyplot.py:435: UserWarning: To output multiple subplots, the figure containing the passed axes is being cleared.\n",
      "  fig, axes = _subplots(naxes=num_axes, ax=ax, squeeze=False,\n"
     ]
    },
    {
     "ename": "NameError",
     "evalue": "name 'Line2D' is not defined",
     "output_type": "error",
     "traceback": [
      "\u001b[0;31m---------------------------------------------------------------------------\u001b[0m",
      "\u001b[0;31mNameError\u001b[0m                                 Traceback (most recent call last)",
      "Cell \u001b[0;32mIn[12], line 28\u001b[0m\n\u001b[1;32m     25\u001b[0m         ax\u001b[38;5;241m.\u001b[39mset_ylabel(\u001b[38;5;124m'\u001b[39m\u001b[38;5;124m'\u001b[39m)\n\u001b[1;32m     27\u001b[0m \u001b[38;5;66;03m# Create a custom legend using Line2D objects\u001b[39;00m\n\u001b[0;32m---> 28\u001b[0m legend_elements \u001b[38;5;241m=\u001b[39m [Line2D([\u001b[38;5;241m0\u001b[39m], [\u001b[38;5;241m0\u001b[39m], color\u001b[38;5;241m=\u001b[39mpalette_dict[lat], lw\u001b[38;5;241m=\u001b[39m\u001b[38;5;241m4\u001b[39m, label\u001b[38;5;241m=\u001b[39mlat) \u001b[38;5;28;01mfor\u001b[39;00m lat \u001b[38;5;129;01min\u001b[39;00m unique_latitude_percent]\n\u001b[1;32m     29\u001b[0m fig\u001b[38;5;241m.\u001b[39mlegend(handles\u001b[38;5;241m=\u001b[39mlegend_elements, title\u001b[38;5;241m=\u001b[39m\u001b[38;5;124m\"\u001b[39m\u001b[38;5;124mPercent\u001b[39m\u001b[38;5;124m\"\u001b[39m, loc\u001b[38;5;241m=\u001b[39m\u001b[38;5;124m'\u001b[39m\u001b[38;5;124mcenter right\u001b[39m\u001b[38;5;124m'\u001b[39m, bbox_to_anchor\u001b[38;5;241m=\u001b[39m(\u001b[38;5;241m1.1\u001b[39m, \u001b[38;5;241m0.5\u001b[39m), fontsize\u001b[38;5;241m=\u001b[39m\u001b[38;5;241m12\u001b[39m)\n\u001b[1;32m     31\u001b[0m \u001b[38;5;66;03m# Global title and layout adjustments\u001b[39;00m\n",
      "Cell \u001b[0;32mIn[12], line 28\u001b[0m, in \u001b[0;36m<listcomp>\u001b[0;34m(.0)\u001b[0m\n\u001b[1;32m     25\u001b[0m         ax\u001b[38;5;241m.\u001b[39mset_ylabel(\u001b[38;5;124m'\u001b[39m\u001b[38;5;124m'\u001b[39m)\n\u001b[1;32m     27\u001b[0m \u001b[38;5;66;03m# Create a custom legend using Line2D objects\u001b[39;00m\n\u001b[0;32m---> 28\u001b[0m legend_elements \u001b[38;5;241m=\u001b[39m [\u001b[43mLine2D\u001b[49m([\u001b[38;5;241m0\u001b[39m], [\u001b[38;5;241m0\u001b[39m], color\u001b[38;5;241m=\u001b[39mpalette_dict[lat], lw\u001b[38;5;241m=\u001b[39m\u001b[38;5;241m4\u001b[39m, label\u001b[38;5;241m=\u001b[39mlat) \u001b[38;5;28;01mfor\u001b[39;00m lat \u001b[38;5;129;01min\u001b[39;00m unique_latitude_percent]\n\u001b[1;32m     29\u001b[0m fig\u001b[38;5;241m.\u001b[39mlegend(handles\u001b[38;5;241m=\u001b[39mlegend_elements, title\u001b[38;5;241m=\u001b[39m\u001b[38;5;124m\"\u001b[39m\u001b[38;5;124mPercent\u001b[39m\u001b[38;5;124m\"\u001b[39m, loc\u001b[38;5;241m=\u001b[39m\u001b[38;5;124m'\u001b[39m\u001b[38;5;124mcenter right\u001b[39m\u001b[38;5;124m'\u001b[39m, bbox_to_anchor\u001b[38;5;241m=\u001b[39m(\u001b[38;5;241m1.1\u001b[39m, \u001b[38;5;241m0.5\u001b[39m), fontsize\u001b[38;5;241m=\u001b[39m\u001b[38;5;241m12\u001b[39m)\n\u001b[1;32m     31\u001b[0m \u001b[38;5;66;03m# Global title and layout adjustments\u001b[39;00m\n",
      "\u001b[0;31mNameError\u001b[0m: name 'Line2D' is not defined"
     ]
    },
    {
     "data": {
      "image/png": "[encoded data removed]",
      "text/plain": [
       "<Figure size 1700x450 with 5 Axes>"
      ]
     },
     "metadata": {},
     "output_type": "display_data"
    }
   ],
   "source": [
    "## RIDGE PLOT ##\n",
    "# not an effective visualization\n",
    "\n",
    "# Custom palette and unique categories\n",
    "custom_palette = ['#FF7F00', '#999999', '#A65628', '#F781BF']\n",
    "unique_latitude_percent = model_statistics_normalized['Percent'].unique()\n",
    "palette_dict = {k: v for k, v in zip(unique_latitude_percent, custom_palette)}\n",
    "\n",
    "# List of metrics to plot\n",
    "metrics = ['rmse', 'abs delta peak', 'spearman_rho', 'nse']\n",
    "titles = ['Normalized RMSE', 'Normalized Absolute Delta Peak', \"Spearman's Rho\", 'NSE']\n",
    "\n",
    "# Create subplots\n",
    "fig, axes = plt.subplots(nrows=1, ncols=4, figsize=(17, 4.5), sharey=True)\n",
    "\n",
    "# Loop over each metric and plot\n",
    "for i, (metric, title) in enumerate(zip(metrics, titles)):\n",
    "    ax = axes[i]\n",
    "\n",
    "    # Plot each ridge plot on its respective axis\n",
    "    joypy.joyplot(model_statistics_normalized, by='Percent', column=metric, ax=ax, color=custom_palette)\n",
    "    ax.set_title(title, fontsize=15)\n",
    "    ax.set_xlabel(title, fontsize=13)\n",
    "    if i == 0:\n",
    "        ax.set_ylabel('Percent')\n",
    "    else:\n",
    "        ax.set_ylabel('')\n",
    "\n",
    "# Create a custom legend using Line2D objects\n",
    "legend_elements = [Line2D([0], [0], color=palette_dict[lat], lw=4, label=lat) for lat in unique_latitude_percent]\n",
    "fig.legend(handles=legend_elements, title=\"Percent\", loc='center right', bbox_to_anchor=(1.1, 0.5), fontsize=12)\n",
    "\n",
    "# Global title and layout adjustments\n",
    "fig.suptitle('Ridge Plot of Model Metric Comparison', size=20)\n",
    "plt.tight_layout()"
   ]
  },
  {
   "cell_type": "code",
   "execution_count": 6,
   "id": "b70e1034-2909-4171-a7e1-c7712197b1b7",
   "metadata": {},
   "outputs": [
    {
     "data": {
      "application/vnd.plotly.v1+json": {
       "config": {
        "plotlyServerURL": "https://plot.ly"
       },
       "data": [
        {
         "name": "30%",
         "r": [
          0.8999999999999999,
          0.9000000000000004,
          0.9000000000000004,
          0.09999999999999998
         ],
         "theta": [
          "RMSE",
          "Absolute Delta Peak",
          "Delta Days",
          "NSE"
         ],
         "type": "scatterpolar"
        },
        {
         "name": "40%",
         "r": [
          0.10000000000000009,
          0.10000000000000009,
          0.2206516027325276,
          0.9000000000000001
         ],
         "theta": [
          "RMSE",
          "Absolute Delta Peak",
          "Delta Days",
          "NSE"
         ],
         "type": "scatterpolar"
        },
        {
         "name": "50%",
         "r": [
          0.1450906390330995,
          0.161000920108874,
          0.10000000000000009,
          0.6616383230365371
         ],
         "theta": [
          "RMSE",
          "Absolute Delta Peak",
          "Delta Days",
          "NSE"
         ],
         "type": "scatterpolar"
        },
        {
         "name": "60%",
         "r": [
          0.6203347688404319,
          0.6235896956191942,
          0.4249605885444039,
          0.3403516844536585
         ],
         "theta": [
          "RMSE",
          "Absolute Delta Peak",
          "Delta Days",
          "NSE"
         ],
         "type": "scatterpolar"
        }
       ],
       "layout": {
        "height": 400,
        "legend": {
         "title": {
          "text": "Percent Maritime Sites<br>in Training Data"
         },
         "x": 1.02,
         "xanchor": "left",
         "y": 0.5,
         "yanchor": "middle"
        },
        "polar": {
         "angularaxis": {
          "type": "category"
         },
         "radialaxis": {
          "autorange": false,
          "range": [
           0,
           1
          ],
          "type": "linear",
          "visible": true
         }
        },
        "showlegend": true,
        "template": {
         "data": {
          "bar": [
           {
            "error_x": {
             "color": "#2a3f5f"
            },
            "error_y": {
             "color": "#2a3f5f"
            },
            "marker": {
             "line": {
              "color": "#E5ECF6",
              "width": 0.5
             },
             "pattern": {
              "fillmode": "overlay",
              "size": 10,
              "solidity": 0.2
             }
            },
            "type": "bar"
           }
          ],
          "barpolar": [
           {
            "marker": {
             "line": {
              "color": "#E5ECF6",
              "width": 0.5
             },
             "pattern": {
              "fillmode": "overlay",
              "size": 10,
              "solidity": 0.2
             }
            },
            "type": "barpolar"
           }
          ],
          "carpet": [
           {
            "aaxis": {
             "endlinecolor": "#2a3f5f",
             "gridcolor": "white",
             "linecolor": "white",
             "minorgridcolor": "white",
             "startlinecolor": "#2a3f5f"
            },
            "baxis": {
             "endlinecolor": "#2a3f5f",
             "gridcolor": "white",
             "linecolor": "white",
             "minorgridcolor": "white",
             "startlinecolor": "#2a3f5f"
            },
            "type": "carpet"
           }
          ],
          "choropleth": [
           {
            "colorbar": {
             "outlinewidth": 0,
             "ticks": ""
            },
            "type": "choropleth"
           }
          ],
          "contour": [
           {
            "colorbar": {
             "outlinewidth": 0,
             "ticks": ""
            },
            "colorscale": [
             [
              0,
              "#0d0887"
             ],
             [
              0.1111111111111111,
              "#46039f"
             ],
             [
              0.2222222222222222,
              "#7201a8"
             ],
             [
              0.3333333333333333,
              "#9c179e"
             ],
             [
              0.4444444444444444,
              "#bd3786"
             ],
             [
              0.5555555555555556,
              "#d8576b"
             ],
             [
              0.6666666666666666,
              "#ed7953"
             ],
             [
              0.7777777777777778,
              "#fb9f3a"
             ],
             [
              0.8888888888888888,
              "#fdca26"
             ],
             [
              1,
              "#f0f921"
             ]
            ],
            "type": "contour"
           }
          ],
          "contourcarpet": [
           {
            "colorbar": {
             "outlinewidth": 0,
             "ticks": ""
            },
            "type": "contourcarpet"
           }
          ],
          "heatmap": [
           {
            "colorbar": {
             "outlinewidth": 0,
             "ticks": ""
            },
            "colorscale": [
             [
              0,
              "#0d0887"
             ],
             [
              0.1111111111111111,
              "#46039f"
             ],
             [
              0.2222222222222222,
              "#7201a8"
             ],
             [
              0.3333333333333333,
              "#9c179e"
             ],
             [
              0.4444444444444444,
              "#bd3786"
             ],
             [
              0.5555555555555556,
              "#d8576b"
             ],
             [
              0.6666666666666666,
              "#ed7953"
             ],
             [
              0.7777777777777778,
              "#fb9f3a"
             ],
             [
              0.8888888888888888,
              "#fdca26"
             ],
             [
              1,
              "#f0f921"
             ]
            ],
            "type": "heatmap"
           }
          ],
          "heatmapgl": [
           {
            "colorbar": {
             "outlinewidth": 0,
             "ticks": ""
            },
            "colorscale": [
             [
              0,
              "#0d0887"
             ],
             [
              0.1111111111111111,
              "#46039f"
             ],
             [
              0.2222222222222222,
              "#7201a8"
             ],
             [
              0.3333333333333333,
              "#9c179e"
             ],
             [
              0.4444444444444444,
              "#bd3786"
             ],
             [
              0.5555555555555556,
              "#d8576b"
             ],
             [
              0.6666666666666666,
              "#ed7953"
             ],
             [
              0.7777777777777778,
              "#fb9f3a"
             ],
             [
              0.8888888888888888,
              "#fdca26"
             ],
             [
              1,
              "#f0f921"
             ]
            ],
            "type": "heatmapgl"
           }
          ],
          "histogram": [
           {
            "marker": {
             "pattern": {
              "fillmode": "overlay",
              "size": 10,
              "solidity": 0.2
             }
            },
            "type": "histogram"
           }
          ],
          "histogram2d": [
           {
            "colorbar": {
             "outlinewidth": 0,
             "ticks": ""
            },
            "colorscale": [
             [
              0,
              "#0d0887"
             ],
             [
              0.1111111111111111,
              "#46039f"
             ],
             [
              0.2222222222222222,
              "#7201a8"
             ],
             [
              0.3333333333333333,
              "#9c179e"
             ],
             [
              0.4444444444444444,
              "#bd3786"
             ],
             [
              0.5555555555555556,
              "#d8576b"
             ],
             [
              0.6666666666666666,
              "#ed7953"
             ],
             [
              0.7777777777777778,
              "#fb9f3a"
             ],
             [
              0.8888888888888888,
              "#fdca26"
             ],
             [
              1,
              "#f0f921"
             ]
            ],
            "type": "histogram2d"
           }
          ],
          "histogram2dcontour": [
           {
            "colorbar": {
             "outlinewidth": 0,
             "ticks": ""
            },
            "colorscale": [
             [
              0,
              "#0d0887"
             ],
             [
              0.1111111111111111,
              "#46039f"
             ],
             [
              0.2222222222222222,
              "#7201a8"
             ],
             [
              0.3333333333333333,
              "#9c179e"
             ],
             [
              0.4444444444444444,
              "#bd3786"
             ],
             [
              0.5555555555555556,
              "#d8576b"
             ],
             [
              0.6666666666666666,
              "#ed7953"
             ],
             [
              0.7777777777777778,
              "#fb9f3a"
             ],
             [
              0.8888888888888888,
              "#fdca26"
             ],
             [
              1,
              "#f0f921"
             ]
            ],
            "type": "histogram2dcontour"
           }
          ],
          "mesh3d": [
           {
            "colorbar": {
             "outlinewidth": 0,
             "ticks": ""
            },
            "type": "mesh3d"
           }
          ],
          "parcoords": [
           {
            "line": {
             "colorbar": {
              "outlinewidth": 0,
              "ticks": ""
             }
            },
            "type": "parcoords"
           }
          ],
          "pie": [
           {
            "automargin": true,
            "type": "pie"
           }
          ],
          "scatter": [
           {
            "fillpattern": {
             "fillmode": "overlay",
             "size": 10,
             "solidity": 0.2
            },
            "type": "scatter"
           }
          ],
          "scatter3d": [
           {
            "line": {
             "colorbar": {
              "outlinewidth": 0,
              "ticks": ""
             }
            },
            "marker": {
             "colorbar": {
              "outlinewidth": 0,
              "ticks": ""
             }
            },
            "type": "scatter3d"
           }
          ],
          "scattercarpet": [
           {
            "marker": {
             "colorbar": {
              "outlinewidth": 0,
              "ticks": ""
             }
            },
            "type": "scattercarpet"
           }
          ],
          "scattergeo": [
           {
            "marker": {
             "colorbar": {
              "outlinewidth": 0,
              "ticks": ""
             }
            },
            "type": "scattergeo"
           }
          ],
          "scattergl": [
           {
            "marker": {
             "colorbar": {
              "outlinewidth": 0,
              "ticks": ""
             }
            },
            "type": "scattergl"
           }
          ],
          "scattermapbox": [
           {
            "marker": {
             "colorbar": {
              "outlinewidth": 0,
              "ticks": ""
             }
            },
            "type": "scattermapbox"
           }
          ],
          "scatterpolar": [
           {
            "marker": {
             "colorbar": {
              "outlinewidth": 0,
              "ticks": ""
             }
            },
            "type": "scatterpolar"
           }
          ],
          "scatterpolargl": [
           {
            "marker": {
             "colorbar": {
              "outlinewidth": 0,
              "ticks": ""
             }
            },
            "type": "scatterpolargl"
           }
          ],
          "scatterternary": [
           {
            "marker": {
             "colorbar": {
              "outlinewidth": 0,
              "ticks": ""
             }
            },
            "type": "scatterternary"
           }
          ],
          "surface": [
           {
            "colorbar": {
             "outlinewidth": 0,
             "ticks": ""
            },
            "colorscale": [
             [
              0,
              "#0d0887"
             ],
             [
              0.1111111111111111,
              "#46039f"
             ],
             [
              0.2222222222222222,
              "#7201a8"
             ],
             [
              0.3333333333333333,
              "#9c179e"
             ],
             [
              0.4444444444444444,
              "#bd3786"
             ],
             [
              0.5555555555555556,
              "#d8576b"
             ],
             [
              0.6666666666666666,
              "#ed7953"
             ],
             [
              0.7777777777777778,
              "#fb9f3a"
             ],
             [
              0.8888888888888888,
              "#fdca26"
             ],
             [
              1,
              "#f0f921"
             ]
            ],
            "type": "surface"
           }
          ],
          "table": [
           {
            "cells": {
             "fill": {
              "color": "#EBF0F8"
             },
             "line": {
              "color": "white"
             }
            },
            "header": {
             "fill": {
              "color": "#C8D4E3"
             },
             "line": {
              "color": "white"
             }
            },
            "type": "table"
           }
          ]
         },
         "layout": {
          "annotationdefaults": {
           "arrowcolor": "#2a3f5f",
           "arrowhead": 0,
           "arrowwidth": 1
          },
          "autotypenumbers": "strict",
          "coloraxis": {
           "colorbar": {
            "outlinewidth": 0,
            "ticks": ""
           }
          },
          "colorscale": {
           "diverging": [
            [
             0,
             "#8e0152"
            ],
            [
             0.1,
             "#c51b7d"
            ],
            [
             0.2,
             "#de77ae"
            ],
            [
             0.3,
             "#f1b6da"
            ],
            [
             0.4,
             "#fde0ef"
            ],
            [
             0.5,
             "#f7f7f7"
            ],
            [
             0.6,
             "#e6f5d0"
            ],
            [
             0.7,
             "#b8e186"
            ],
            [
             0.8,
             "#7fbc41"
            ],
            [
             0.9,
             "#4d9221"
            ],
            [
             1,
             "#276419"
            ]
           ],
           "sequential": [
            [
             0,
             "#0d0887"
            ],
            [
             0.1111111111111111,
             "#46039f"
            ],
            [
             0.2222222222222222,
             "#7201a8"
            ],
            [
             0.3333333333333333,
             "#9c179e"
            ],
            [
             0.4444444444444444,
             "#bd3786"
            ],
            [
             0.5555555555555556,
             "#d8576b"
            ],
            [
             0.6666666666666666,
             "#ed7953"
            ],
            [
             0.7777777777777778,
             "#fb9f3a"
            ],
            [
             0.8888888888888888,
             "#fdca26"
            ],
            [
             1,
             "#f0f921"
            ]
           ],
           "sequentialminus": [
            [
             0,
             "#0d0887"
            ],
            [
             0.1111111111111111,
             "#46039f"
            ],
            [
             0.2222222222222222,
             "#7201a8"
            ],
            [
             0.3333333333333333,
             "#9c179e"
            ],
            [
             0.4444444444444444,
             "#bd3786"
            ],
            [
             0.5555555555555556,
             "#d8576b"
            ],
            [
             0.6666666666666666,
             "#ed7953"
            ],
            [
             0.7777777777777778,
             "#fb9f3a"
            ],
            [
             0.8888888888888888,
             "#fdca26"
            ],
            [
             1,
             "#f0f921"
            ]
           ]
          },
          "colorway": [
           "#636efa",
           "#EF553B",
           "#00cc96",
           "#ab63fa",
           "#FFA15A",
           "#19d3f3",
           "#FF6692",
           "#B6E880",
           "#FF97FF",
           "#FECB52"
          ],
          "font": {
           "color": "#2a3f5f"
          },
          "geo": {
           "bgcolor": "white",
           "lakecolor": "white",
           "landcolor": "#E5ECF6",
           "showlakes": true,
           "showland": true,
           "subunitcolor": "white"
          },
          "hoverlabel": {
           "align": "left"
          },
          "hovermode": "closest",
          "mapbox": {
           "style": "light"
          },
          "paper_bgcolor": "white",
          "plot_bgcolor": "#E5ECF6",
          "polar": {
           "angularaxis": {
            "gridcolor": "white",
            "linecolor": "white",
            "ticks": ""
           },
           "bgcolor": "#E5ECF6",
           "radialaxis": {
            "gridcolor": "white",
            "linecolor": "white",
            "ticks": ""
           }
          },
          "scene": {
           "xaxis": {
            "backgroundcolor": "#E5ECF6",
            "gridcolor": "white",
            "gridwidth": 2,
            "linecolor": "white",
            "showbackground": true,
            "ticks": "",
            "zerolinecolor": "white"
           },
           "yaxis": {
            "backgroundcolor": "#E5ECF6",
            "gridcolor": "white",
            "gridwidth": 2,
            "linecolor": "white",
            "showbackground": true,
            "ticks": "",
            "zerolinecolor": "white"
           },
           "zaxis": {
            "backgroundcolor": "#E5ECF6",
            "gridcolor": "white",
            "gridwidth": 2,
            "linecolor": "white",
            "showbackground": true,
            "ticks": "",
            "zerolinecolor": "white"
           }
          },
          "shapedefaults": {
           "line": {
            "color": "#2a3f5f"
           }
          },
          "ternary": {
           "aaxis": {
            "gridcolor": "white",
            "linecolor": "white",
            "ticks": ""
           },
           "baxis": {
            "gridcolor": "white",
            "linecolor": "white",
            "ticks": ""
           },
           "bgcolor": "#E5ECF6",
           "caxis": {
            "gridcolor": "white",
            "linecolor": "white",
            "ticks": ""
           }
          },
          "title": {
           "x": 0.05
          },
          "xaxis": {
           "automargin": true,
           "gridcolor": "white",
           "linecolor": "white",
           "ticks": "",
           "title": {
            "standoff": 15
           },
           "zerolinecolor": "white",
           "zerolinewidth": 2
          },
          "yaxis": {
           "automargin": true,
           "gridcolor": "white",
           "linecolor": "white",
           "ticks": "",
           "title": {
            "standoff": 15
           },
           "zerolinecolor": "white",
           "zerolinewidth": 2
          }
         }
        },
        "title": {
         "text": "Effect of Maritime Training Site Proportions on Model Performance"
        },
        "width": 700
       }
      },
      "image/png": "[encoded data removed]",
      "text/html": [
       "<div>                            <div id=\"c5b01985-c334-407d-8e2e-fa2ad7c42bab\" class=\"plotly-graph-div\" style=\"height:400px; width:700px;\"></div>            <script type=\"text/javascript\">                require([\"plotly\"], function(Plotly) {                    window.PLOTLYENV=window.PLOTLYENV || {};                                    if (document.getElementById(\"c5b01985-c334-407d-8e2e-fa2ad7c42bab\")) {                    Plotly.newPlot(                        \"c5b01985-c334-407d-8e2e-fa2ad7c42bab\",                        [{\"name\":\"30%\",\"r\":[0.8999999999999999,0.9000000000000004,0.9000000000000004,0.09999999999999998],\"theta\":[\"RMSE\",\"Absolute Delta Peak\",\"Delta Days\",\"NSE\"],\"type\":\"scatterpolar\"},{\"name\":\"40%\",\"r\":[0.10000000000000009,0.10000000000000009,0.2206516027325276,0.9000000000000001],\"theta\":[\"RMSE\",\"Absolute Delta Peak\",\"Delta Days\",\"NSE\"],\"type\":\"scatterpolar\"},{\"name\":\"50%\",\"r\":[0.1450906390330995,0.161000920108874,0.10000000000000009,0.6616383230365371],\"theta\":[\"RMSE\",\"Absolute Delta Peak\",\"Delta Days\",\"NSE\"],\"type\":\"scatterpolar\"},{\"name\":\"60%\",\"r\":[0.6203347688404319,0.6235896956191942,0.4249605885444039,0.3403516844536585],\"theta\":[\"RMSE\",\"Absolute Delta Peak\",\"Delta Days\",\"NSE\"],\"type\":\"scatterpolar\"}],                        {\"template\":{\"data\":{\"histogram2dcontour\":[{\"type\":\"histogram2dcontour\",\"colorbar\":{\"outlinewidth\":0,\"ticks\":\"\"},\"colorscale\":[[0.0,\"#0d0887\"],[0.1111111111111111,\"#46039f\"],[0.2222222222222222,\"#7201a8\"],[0.3333333333333333,\"#9c179e\"],[0.4444444444444444,\"#bd3786\"],[0.5555555555555556,\"#d8576b\"],[0.6666666666666666,\"#ed7953\"],[0.7777777777777778,\"#fb9f3a\"],[0.8888888888888888,\"#fdca26\"],[1.0,\"#f0f921\"]]}],\"choropleth\":[{\"type\":\"choropleth\",\"colorbar\":{\"outlinewidth\":0,\"ticks\":\"\"}}],\"histogram2d\":[{\"type\":\"histogram2d\",\"colorbar\":{\"outlinewidth\":0,\"ticks\":\"\"},\"colorscale\":[[0.0,\"#0d0887\"],[0.1111111111111111,\"#46039f\"],[0.2222222222222222,\"#7201a8\"],[0.3333333333333333,\"#9c179e\"],[0.4444444444444444,\"#bd3786\"],[0.5555555555555556,\"#d8576b\"],[0.6666666666666666,\"#ed7953\"],[0.7777777777777778,\"#fb9f3a\"],[0.8888888888888888,\"#fdca26\"],[1.0,\"#f0f921\"]]}],\"heatmap\":[{\"type\":\"heatmap\",\"colorbar\":{\"outlinewidth\":0,\"ticks\":\"\"},\"colorscale\":[[0.0,\"#0d0887\"],[0.1111111111111111,\"#46039f\"],[0.2222222222222222,\"#7201a8\"],[0.3333333333333333,\"#9c179e\"],[0.4444444444444444,\"#bd3786\"],[0.5555555555555556,\"#d8576b\"],[0.6666666666666666,\"#ed7953\"],[0.7777777777777778,\"#fb9f3a\"],[0.8888888888888888,\"#fdca26\"],[1.0,\"#f0f921\"]]}],\"heatmapgl\":[{\"type\":\"heatmapgl\",\"colorbar\":{\"outlinewidth\":0,\"ticks\":\"\"},\"colorscale\":[[0.0,\"#0d0887\"],[0.1111111111111111,\"#46039f\"],[0.2222222222222222,\"#7201a8\"],[0.3333333333333333,\"#9c179e\"],[0.4444444444444444,\"#bd3786\"],[0.5555555555555556,\"#d8576b\"],[0.6666666666666666,\"#ed7953\"],[0.7777777777777778,\"#fb9f3a\"],[0.8888888888888888,\"#fdca26\"],[1.0,\"#f0f921\"]]}],\"contourcarpet\":[{\"type\":\"contourcarpet\",\"colorbar\":{\"outlinewidth\":0,\"ticks\":\"\"}}],\"contour\":[{\"type\":\"contour\",\"colorbar\":{\"outlinewidth\":0,\"ticks\":\"\"},\"colorscale\":[[0.0,\"#0d0887\"],[0.1111111111111111,\"#46039f\"],[0.2222222222222222,\"#7201a8\"],[0.3333333333333333,\"#9c179e\"],[0.4444444444444444,\"#bd3786\"],[0.5555555555555556,\"#d8576b\"],[0.6666666666666666,\"#ed7953\"],[0.7777777777777778,\"#fb9f3a\"],[0.8888888888888888,\"#fdca26\"],[1.0,\"#f0f921\"]]}],\"surface\":[{\"type\":\"surface\",\"colorbar\":{\"outlinewidth\":0,\"ticks\":\"\"},\"colorscale\":[[0.0,\"#0d0887\"],[0.1111111111111111,\"#46039f\"],[0.2222222222222222,\"#7201a8\"],[0.3333333333333333,\"#9c179e\"],[0.4444444444444444,\"#bd3786\"],[0.5555555555555556,\"#d8576b\"],[0.6666666666666666,\"#ed7953\"],[0.7777777777777778,\"#fb9f3a\"],[0.8888888888888888,\"#fdca26\"],[1.0,\"#f0f921\"]]}],\"mesh3d\":[{\"type\":\"mesh3d\",\"colorbar\":{\"outlinewidth\":0,\"ticks\":\"\"}}],\"scatter\":[{\"fillpattern\":{\"fillmode\":\"overlay\",\"size\":10,\"solidity\":0.2},\"type\":\"scatter\"}],\"parcoords\":[{\"type\":\"parcoords\",\"line\":{\"colorbar\":{\"outlinewidth\":0,\"ticks\":\"\"}}}],\"scatterpolargl\":[{\"type\":\"scatterpolargl\",\"marker\":{\"colorbar\":{\"outlinewidth\":0,\"ticks\":\"\"}}}],\"bar\":[{\"error_x\":{\"color\":\"#2a3f5f\"},\"error_y\":{\"color\":\"#2a3f5f\"},\"marker\":{\"line\":{\"color\":\"#E5ECF6\",\"width\":0.5},\"pattern\":{\"fillmode\":\"overlay\",\"size\":10,\"solidity\":0.2}},\"type\":\"bar\"}],\"scattergeo\":[{\"type\":\"scattergeo\",\"marker\":{\"colorbar\":{\"outlinewidth\":0,\"ticks\":\"\"}}}],\"scatterpolar\":[{\"type\":\"scatterpolar\",\"marker\":{\"colorbar\":{\"outlinewidth\":0,\"ticks\":\"\"}}}],\"histogram\":[{\"marker\":{\"pattern\":{\"fillmode\":\"overlay\",\"size\":10,\"solidity\":0.2}},\"type\":\"histogram\"}],\"scattergl\":[{\"type\":\"scattergl\",\"marker\":{\"colorbar\":{\"outlinewidth\":0,\"ticks\":\"\"}}}],\"scatter3d\":[{\"type\":\"scatter3d\",\"line\":{\"colorbar\":{\"outlinewidth\":0,\"ticks\":\"\"}},\"marker\":{\"colorbar\":{\"outlinewidth\":0,\"ticks\":\"\"}}}],\"scattermapbox\":[{\"type\":\"scattermapbox\",\"marker\":{\"colorbar\":{\"outlinewidth\":0,\"ticks\":\"\"}}}],\"scatterternary\":[{\"type\":\"scatterternary\",\"marker\":{\"colorbar\":{\"outlinewidth\":0,\"ticks\":\"\"}}}],\"scattercarpet\":[{\"type\":\"scattercarpet\",\"marker\":{\"colorbar\":{\"outlinewidth\":0,\"ticks\":\"\"}}}],\"carpet\":[{\"aaxis\":{\"endlinecolor\":\"#2a3f5f\",\"gridcolor\":\"white\",\"linecolor\":\"white\",\"minorgridcolor\":\"white\",\"startlinecolor\":\"#2a3f5f\"},\"baxis\":{\"endlinecolor\":\"#2a3f5f\",\"gridcolor\":\"white\",\"linecolor\":\"white\",\"minorgridcolor\":\"white\",\"startlinecolor\":\"#2a3f5f\"},\"type\":\"carpet\"}],\"table\":[{\"cells\":{\"fill\":{\"color\":\"#EBF0F8\"},\"line\":{\"color\":\"white\"}},\"header\":{\"fill\":{\"color\":\"#C8D4E3\"},\"line\":{\"color\":\"white\"}},\"type\":\"table\"}],\"barpolar\":[{\"marker\":{\"line\":{\"color\":\"#E5ECF6\",\"width\":0.5},\"pattern\":{\"fillmode\":\"overlay\",\"size\":10,\"solidity\":0.2}},\"type\":\"barpolar\"}],\"pie\":[{\"automargin\":true,\"type\":\"pie\"}]},\"layout\":{\"autotypenumbers\":\"strict\",\"colorway\":[\"#636efa\",\"#EF553B\",\"#00cc96\",\"#ab63fa\",\"#FFA15A\",\"#19d3f3\",\"#FF6692\",\"#B6E880\",\"#FF97FF\",\"#FECB52\"],\"font\":{\"color\":\"#2a3f5f\"},\"hovermode\":\"closest\",\"hoverlabel\":{\"align\":\"left\"},\"paper_bgcolor\":\"white\",\"plot_bgcolor\":\"#E5ECF6\",\"polar\":{\"bgcolor\":\"#E5ECF6\",\"angularaxis\":{\"gridcolor\":\"white\",\"linecolor\":\"white\",\"ticks\":\"\"},\"radialaxis\":{\"gridcolor\":\"white\",\"linecolor\":\"white\",\"ticks\":\"\"}},\"ternary\":{\"bgcolor\":\"#E5ECF6\",\"aaxis\":{\"gridcolor\":\"white\",\"linecolor\":\"white\",\"ticks\":\"\"},\"baxis\":{\"gridcolor\":\"white\",\"linecolor\":\"white\",\"ticks\":\"\"},\"caxis\":{\"gridcolor\":\"white\",\"linecolor\":\"white\",\"ticks\":\"\"}},\"coloraxis\":{\"colorbar\":{\"outlinewidth\":0,\"ticks\":\"\"}},\"colorscale\":{\"sequential\":[[0.0,\"#0d0887\"],[0.1111111111111111,\"#46039f\"],[0.2222222222222222,\"#7201a8\"],[0.3333333333333333,\"#9c179e\"],[0.4444444444444444,\"#bd3786\"],[0.5555555555555556,\"#d8576b\"],[0.6666666666666666,\"#ed7953\"],[0.7777777777777778,\"#fb9f3a\"],[0.8888888888888888,\"#fdca26\"],[1.0,\"#f0f921\"]],\"sequentialminus\":[[0.0,\"#0d0887\"],[0.1111111111111111,\"#46039f\"],[0.2222222222222222,\"#7201a8\"],[0.3333333333333333,\"#9c179e\"],[0.4444444444444444,\"#bd3786\"],[0.5555555555555556,\"#d8576b\"],[0.6666666666666666,\"#ed7953\"],[0.7777777777777778,\"#fb9f3a\"],[0.8888888888888888,\"#fdca26\"],[1.0,\"#f0f921\"]],\"diverging\":[[0,\"#8e0152\"],[0.1,\"#c51b7d\"],[0.2,\"#de77ae\"],[0.3,\"#f1b6da\"],[0.4,\"#fde0ef\"],[0.5,\"#f7f7f7\"],[0.6,\"#e6f5d0\"],[0.7,\"#b8e186\"],[0.8,\"#7fbc41\"],[0.9,\"#4d9221\"],[1,\"#276419\"]]},\"xaxis\":{\"gridcolor\":\"white\",\"linecolor\":\"white\",\"ticks\":\"\",\"title\":{\"standoff\":15},\"zerolinecolor\":\"white\",\"automargin\":true,\"zerolinewidth\":2},\"yaxis\":{\"gridcolor\":\"white\",\"linecolor\":\"white\",\"ticks\":\"\",\"title\":{\"standoff\":15},\"zerolinecolor\":\"white\",\"automargin\":true,\"zerolinewidth\":2},\"scene\":{\"xaxis\":{\"backgroundcolor\":\"#E5ECF6\",\"gridcolor\":\"white\",\"linecolor\":\"white\",\"showbackground\":true,\"ticks\":\"\",\"zerolinecolor\":\"white\",\"gridwidth\":2},\"yaxis\":{\"backgroundcolor\":\"#E5ECF6\",\"gridcolor\":\"white\",\"linecolor\":\"white\",\"showbackground\":true,\"ticks\":\"\",\"zerolinecolor\":\"white\",\"gridwidth\":2},\"zaxis\":{\"backgroundcolor\":\"#E5ECF6\",\"gridcolor\":\"white\",\"linecolor\":\"white\",\"showbackground\":true,\"ticks\":\"\",\"zerolinecolor\":\"white\",\"gridwidth\":2}},\"shapedefaults\":{\"line\":{\"color\":\"#2a3f5f\"}},\"annotationdefaults\":{\"arrowcolor\":\"#2a3f5f\",\"arrowhead\":0,\"arrowwidth\":1},\"geo\":{\"bgcolor\":\"white\",\"landcolor\":\"#E5ECF6\",\"subunitcolor\":\"white\",\"showland\":true,\"showlakes\":true,\"lakecolor\":\"white\"},\"title\":{\"x\":0.05},\"mapbox\":{\"style\":\"light\"}}},\"polar\":{\"radialaxis\":{\"visible\":true,\"range\":[0,1]}},\"legend\":{\"title\":{\"text\":\"Percent Maritime Sites\\u003cbr\\u003ein Training Data\"},\"x\":100,\"y\":0.5,\"xanchor\":\"right\",\"yanchor\":\"middle\"},\"showlegend\":true,\"title\":{\"text\":\"Effect of Maritime Training Site Proportions on Model Performance\"},\"width\":700,\"height\":400},                        {\"responsive\": true}                    ).then(function(){\n",
       "                            \n",
       "var gd = document.getElementById('c5b01985-c334-407d-8e2e-fa2ad7c42bab');\n",
       "var x = new MutationObserver(function (mutations, observer) {{\n",
       "        var display = window.getComputedStyle(gd).display;\n",
       "        if (!display || display === 'none') {{\n",
       "            console.log([gd, 'removed!']);\n",
       "            Plotly.purge(gd);\n",
       "            observer.disconnect();\n",
       "        }}\n",
       "}});\n",
       "\n",
       "// Listen for the removal of the full notebook cells\n",
       "var notebookContainer = gd.closest('#notebook-container');\n",
       "if (notebookContainer) {{\n",
       "    x.observe(notebookContainer, {childList: true});\n",
       "}}\n",
       "\n",
       "// Listen for the clearing of the current output cell\n",
       "var outputEl = gd.closest('.output');\n",
       "if (outputEl) {{\n",
       "    x.observe(outputEl, {childList: true});\n",
       "}}\n",
       "\n",
       "                        })                };                });            </script>        </div>"
      ]
     },
     "metadata": {},
     "output_type": "display_data"
    }
   ],
   "source": [
    "## POLAR PLOT ##\n",
    "categories = ['RMSE', 'Absolute Delta Peak', 'Delta Days', 'NSE']\n",
    "data_m30 = [np.mean(stats_m30['rmse']), np.mean(stats_m30['abs delta peak']), np.mean(stats_m30['delta days']), np.mean(stats_m30['nse'])]\n",
    "data_m40 = [np.mean(stats_m40['rmse']), np.mean(stats_m40['abs delta peak']), np.mean(stats_m40['delta days']), np.mean(stats_m40['nse'])]\n",
    "data_m50 = [np.mean(stats_m50['rmse']), np.mean(stats_m50['abs delta peak']), np.mean(stats_m50['delta days']), np.mean(stats_m50['nse'])]\n",
    "data_m60 = [np.mean(stats_m60['rmse']), np.mean(stats_m60['abs delta peak']), np.mean(stats_m60['delta days']), np.mean(stats_m60['nse'])]\n",
    "\n",
    "# Normalize each metric independently to 0-1 range\n",
    "scaler = MinMaxScaler(feature_range=(0.1,0.9))\n",
    "data_scaled = scaler.fit_transform([data_m30, data_m40, data_m50, data_m60])\n",
    "\n",
    "fig = go.Figure()\n",
    "\n",
    "fig.add_trace(go.Scatterpolar(r=data_scaled[0],theta=categories, name='30%'))\n",
    "fig.add_trace(go.Scatterpolar(r=data_scaled[1], theta=categories,  name='40%'))\n",
    "fig.add_trace(go.Scatterpolar(r=data_scaled[2], theta=categories, name='50%'))\n",
    "fig.add_trace(go.Scatterpolar(r=data_scaled[3], theta=categories,  name='60%'))\n",
    "\n",
    "\n",
    "fig.update_layout(polar=dict(radialaxis=dict(visible=True, range=[0, 1])), legend_title_text=f\"Percent Maritime Sites<br>in Training Data\", showlegend=True, \n",
    "                  title=\"Effect of Maritime Training Site Proportions on Model Performance\", width=700, height=400, \n",
    "                  legend=dict(x=100, y=0.5, xanchor='right', yanchor='middle'))\n",
    "\n",
    "\n",
    "fig.show()"
   ]
  },
  {
   "cell_type": "markdown",
   "id": "ce1e0638-0f84-4651-b7a6-50e2db06407a",
   "metadata": {},
   "source": [
    "# Evaluation of model performance across snowpack regimes"
   ]
  },
  {
   "cell_type": "code",
   "execution_count": 34,
   "id": "ad98e19e-8c16-4599-be6e-c7eaf8499a20",
   "metadata": {},
   "outputs": [
    {
     "name": "stdout",
     "output_type": "stream",
     "text": [
      "Testing data: \n",
      " total number of sites:  101\n",
      "total number of years:  904\n",
      "maritime percent:  0.31683168316831684\n",
      "intermountain sites:  0.36633663366336633\n",
      "continental sites:  0.31683168316831684\n",
      "Training data for l9_500 : \n",
      " total number of years:  4284\n",
      "number of sites l9_500 : \n",
      " total number of sites:  476\n",
      "maritime percent:  0.30462184873949577\n",
      "intermountain sites:  0.3907563025210084\n",
      "continental sites:  0.3004201680672269\n"
     ]
    }
   ],
   "source": [
    "## TESTING AND TRAINING DATA ##\n",
    "run = 'l9_500'\n",
    "\n",
    "test_data = pd.read_csv('national_test_sites.txt', sep=' ', header=None)\n",
    "test_data.columns = ['site_id', 'site_name', 'site_type', 'agency', 'state','first_date_data_available', 'last_date_data_available', 'record_count',\n",
    "                     'latitude', 'longitude', 'bins','first_wy_date', 'last_wy_date']\n",
    "test_data_years = pd.read_csv('national_test_years.txt', sep=' ', header=None)\n",
    "test_data_years.columns = ['site_id', 'year','train']\n",
    "train_data = pd.read_csv('Data/LSTM_output/'+run+'_train_metadata.csv', sep=' ')\n",
    "train_data['state'] = np.array(x.split(':')[1] for x in train_data['site_id'])\n",
    "\n",
    "# number of sites in each state\n",
    "num_maritime_test = len(test_data[test_data.state == 'WA'])+len(test_data[test_data.state == 'OR'])+len(test_data[test_data.state == 'CA'])\n",
    "num_intermountain_test = len(test_data[test_data.state == 'MT'])+len(test_data[test_data.state == 'UT'])+len(test_data[test_data.state == 'ID'])+len(test_data[test_data.state == 'NV'])\n",
    "num_continental_test = len(test_data[test_data.state == 'CO'])+len(test_data[test_data.state == 'NM'])+len(test_data[test_data.state == 'AZ'])+len(test_data[test_data.state == 'WY'])\n",
    "\n",
    "num_maritime_train = len(train_data[train_data.state == 'WA'])+len(train_data[train_data.state == 'OR'])+len(train_data[train_data.state == 'CA'])\n",
    "num_intermountain_train = len(train_data[train_data.state == 'MT'])+len(train_data[train_data.state == 'UT'])+len(train_data[train_data.state == 'ID'])+len(train_data[train_data.state == 'NV'])\n",
    "num_continental_train = len(train_data[train_data.state == 'CO'])+len(train_data[train_data.state == 'NM'])+len(train_data[train_data.state == 'AZ'])+len(train_data[train_data.state == 'WY'])\n",
    "\n",
    "print('Testing data: \\n total number of sites: ', len(test_data))\n",
    "print('total number of years: ', len(test_data_years))\n",
    "print('maritime percent: ', num_maritime_test/len(test_data))\n",
    "print('intermountain sites: ', num_intermountain_test/len(test_data))\n",
    "print('continental sites: ', num_continental_test/len(test_data))\n",
    "\n",
    "print('\\nTraining data for', run, ': \\n total number of years: ', len(train_data))\n",
    "print('number of sites', run, ': \\n total number of sites: ', len(np.unique(train_data['site_id'])))\n",
    "print('maritime percent: ', num_maritime_train/len(train_data))\n",
    "print('intermountain sites: ', num_intermountain_train/len(train_data))\n",
    "print('continental sites: ', num_continental_train/len(train_data))"
   ]
  }
 ],
 "metadata": {
  "kernelspec": {
   "display_name": "Python 3 (ipykernel)",
   "language": "python",
   "name": "python3"
  },
  "language_info": {
   "codemirror_mode": {
    "name": "ipython",
    "version": 3
   },
   "file_extension": ".py",
   "mimetype": "text/x-python",
   "name": "python",
   "nbconvert_exporter": "python",
   "pygments_lexer": "ipython3",
   "version": "3.9.19"
  }
 },
 "nbformat": 4,
 "nbformat_minor": 5
}
